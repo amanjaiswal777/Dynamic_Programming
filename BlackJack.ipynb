{
  "nbformat": 4,
  "nbformat_minor": 0,
  "metadata": {
    "colab": {
      "name": "BlackJack.ipynb",
      "provenance": [],
      "collapsed_sections": [],
      "include_colab_link": true
    },
    "kernelspec": {
      "name": "python3",
      "display_name": "Python 3"
    }
  },
  "cells": [
    {
      "cell_type": "markdown",
      "metadata": {
        "id": "view-in-github",
        "colab_type": "text"
      },
      "source": [
        "<a href=\"https://colab.research.google.com/github/amanjaiswal777/Dynamic_Programming/blob/master/BlackJack.ipynb\" target=\"_parent\"><img src=\"https://colab.research.google.com/assets/colab-badge.svg\" alt=\"Open In Colab\"/></a>"
      ]
    },
    {
      "cell_type": "markdown",
      "metadata": {
        "id": "GpftSvIdx7wj",
        "colab_type": "text"
      },
      "source": [
        "# We are going to implement the blackjack Game in python"
      ]
    },
    {
      "cell_type": "code",
      "metadata": {
        "id": "3pn4Wadzxbcz",
        "colab_type": "code",
        "colab": {}
      },
      "source": [
        "import os\n",
        "import random"
      ],
      "execution_count": 0,
      "outputs": []
    },
    {
      "cell_type": "code",
      "metadata": {
        "id": "cu0UoYpjyKk9",
        "colab_type": "code",
        "colab": {}
      },
      "source": [
        "deck = [2,3,4,5,6,7,8,9,10,11,12,13,14]*4"
      ],
      "execution_count": 0,
      "outputs": []
    },
    {
      "cell_type": "code",
      "metadata": {
        "id": "1o1IeRKFyfgS",
        "colab_type": "code",
        "colab": {}
      },
      "source": [
        "def deal(deck):\n",
        "  hand = []\n",
        "  for i in range(2):\n",
        "    random.shuffle(deck)\n",
        "    card = deck.pop()\n",
        "    if card == 11:card == \"J\"\n",
        "    if card == 12:card == \"Q\"\n",
        "    if card == 13:card == \"K\"\n",
        "    if card == 14:card == \"A\"\n",
        "    hand.append(card)\n",
        "  return hand  "
      ],
      "execution_count": 0,
      "outputs": []
    },
    {
      "cell_type": "code",
      "metadata": {
        "id": "803AAzf8zXyj",
        "colab_type": "code",
        "colab": {}
      },
      "source": [
        "def play_again():\n",
        "  again = input(\"Do u want to play again? (Y/N): \").lower()\n",
        "  if again == \"y\":\n",
        "    dealer_hand = []\n",
        "    player_hand = []\n",
        "    deck = [2,3,4,5,6,7,8,9,10,11,12,13,14]*4\n",
        "    game()\n",
        "  else:\n",
        "    print(\"Bye!\")\n",
        "    exit()"
      ],
      "execution_count": 0,
      "outputs": []
    },
    {
      "cell_type": "code",
      "metadata": {
        "id": "bwiQTpCmz_lh",
        "colab_type": "code",
        "colab": {}
      },
      "source": [
        "def total(hand):\n",
        "  total = 0\n",
        "  for card in hand:\n",
        "    if card == \"J\" or card == \"Q\" or card == \"K\":\n",
        "      total += 10\n",
        "    elif card == \"A\":\n",
        "      if total >= 11: total+=1\n",
        "      else: total+=11\n",
        "    else: total += card\n",
        "  return total    "
      ],
      "execution_count": 0,
      "outputs": []
    },
    {
      "cell_type": "code",
      "metadata": {
        "id": "9xvONQYT0wAp",
        "colab_type": "code",
        "colab": {}
      },
      "source": [
        "def hit(hand):\n",
        "  card = deck.pop()\n",
        "  if card == 11:card == \"J\"\n",
        "  if card == 12:card == \"Q\"\n",
        "  if card == 13:card == \"K\"\n",
        "  if card == 14:card == \"A\"\n",
        "  hand.append(card)\n",
        "  return hand"
      ],
      "execution_count": 0,
      "outputs": []
    },
    {
      "cell_type": "code",
      "metadata": {
        "id": "zsua2Nlh1NNR",
        "colab_type": "code",
        "colab": {}
      },
      "source": [
        "def clear():\n",
        "  if os.name == 'nt':\n",
        "    os.system('CLS')\n",
        "  if os.name == 'posix':\n",
        "    os.system('clear')"
      ],
      "execution_count": 0,
      "outputs": []
    },
    {
      "cell_type": "code",
      "metadata": {
        "id": "rIzBO8_i1gUR",
        "colab_type": "code",
        "colab": {}
      },
      "source": [
        "def print_results(dealer_hand, player_hand):\n",
        "  clear()\n",
        "  print(\"The dealer has a \" + str(dealer_hand) + \" for a total of \" + str(total(dealer_hand)))\n",
        "  print(\"you have a \" + str(player_hand) + \"for a total of \" + str(total(player_hand)))"
      ],
      "execution_count": 0,
      "outputs": []
    },
    {
      "cell_type": "code",
      "metadata": {
        "id": "Q7THyNag2Fmy",
        "colab_type": "code",
        "colab": {}
      },
      "source": [
        "def blackjack(dealer_hand, player_hand):\n",
        "  if total(player_hand) == 21:\n",
        "    print_results(dealer_hand, player_hand)\n",
        "    print(\"Congratulations! you got a b;lackjack!\\n\")\n",
        "    play_again()\n",
        "  elif total(dealer_hand) == 21:\n",
        "    print_results(dealer_hand,player_hand)\n",
        "    print(\"Sorry u loose ! The dealer got a blackjack\\n\")\n",
        "    play_again()\n",
        "    "
      ],
      "execution_count": 0,
      "outputs": []
    },
    {
      "cell_type": "code",
      "metadata": {
        "id": "CIuKqhin22Ei",
        "colab_type": "code",
        "colab": {}
      },
      "source": [
        "def score(dealer_hand, player_hand):\n",
        "  if total(player_hand) == 21:\n",
        "    print_results(dealer_hand. player_hand)\n",
        "    print(\"u won the blackjack game\\n\")\n",
        "  elif total(dealer_hand) == 21:\n",
        "    print_results(dealer_hand, player_hand)\n",
        "    print(\"sorry u loose the game and the dealer won the blackjack\\n\")\n",
        "  elif total(dealer_hand) > 21:\n",
        "    print_results(dealer_hand,player_hand)\n",
        "    print(\"Dealer busts u win\\n\")\n",
        "  elif total(player_hand) < total(dealer_hand):\n",
        "    print_results(dealer_hand,player_hand)\n",
        "    print(\"sorry u loose the game and the dealer won\\n\")\n",
        "  elif total(player_hand) > total(dealer_hand):\n",
        "    print_results(dealer_hand,player_hand)\n",
        "    print(\"Congratulations u have won the game baby\")"
      ],
      "execution_count": 0,
      "outputs": []
    },
    {
      "cell_type": "code",
      "metadata": {
        "id": "v4WCfl8Y4YmQ",
        "colab_type": "code",
        "colab": {}
      },
      "source": [
        "def game():\n",
        "  choice = 0\n",
        "  clear()\n",
        "  print(\" welcome to the game BLACKJACK\\n\")\n",
        "  dealer_hand = deal(deck)\n",
        "  player_hand = deal(deck)\n",
        "  while choice != \"q\":\n",
        "    print(\"The dealer is showing a \" + str(dealer_hand[0]))\n",
        "    print(\"u have a \" + str(player_hand) + \"for a total of \" + str(total(player_hand)))\n",
        "    blackjack(dealer_hand,player_hand)\n",
        "    choice = input(\"Do u want to [H]it, [S]tand, or [Q]uit: \").lower()\n",
        "    clear()\n",
        "    if choice == \"h\":\n",
        "      hit(player_hand)\n",
        "      while total(dealer_hand) < 17:\n",
        "        hit(dealer_hand)\n",
        "      score(dealer_hand,player_hand)\n",
        "      play_again()\n",
        "      \n",
        "    elif choice == \"s\":\n",
        "      while total(dealer_hand) < 17:\n",
        "        hit(dealer_hand)\n",
        "      score(dealer_hand, player_hand)\n",
        "      play_again()\n",
        "    elif choice == \"q\":\n",
        "      print(\"Bye!\")\n",
        "      exit()"
      ],
      "execution_count": 0,
      "outputs": []
    },
    {
      "cell_type": "code",
      "metadata": {
        "id": "RH4N7ybd6Mm6",
        "colab_type": "code",
        "colab": {
          "base_uri": "https://localhost:8080/",
          "height": 574
        },
        "outputId": "ad1578f2-e113-4503-9d2c-2752e0a8db81"
      },
      "source": [
        "if __name__ == \"__main__\":\n",
        "  game()"
      ],
      "execution_count": 25,
      "outputs": [
        {
          "output_type": "stream",
          "text": [
            " welcome to the game BLACKJACK\n",
            "\n",
            "The dealer is showing a 11\n",
            "u have a [8, 14]for a total of 22\n",
            "The dealer has a [11, 10] for a total of 21\n",
            "you have a [8, 14]for a total of 22\n",
            "Sorry u loose ! The dealer got a blackjack\n",
            "\n",
            "Do u want to play again? (Y/N): y\n",
            " welcome to the game BLACKJACK\n",
            "\n",
            "The dealer is showing a 3\n",
            "u have a [10, 9]for a total of 19\n",
            "Do u want to [H]it, [S]tand, or [Q]uit: S\n",
            "The dealer has a [3, 10, 2, 6] for a total of 21\n",
            "you have a [10, 9]for a total of 19\n",
            "sorry u loose the game and the dealer won the blackjack\n",
            "\n",
            "Do u want to play again? (Y/N): N\n",
            "Bye!\n",
            "The dealer is showing a 3\n",
            "u have a [10, 9]for a total of 19\n",
            "The dealer has a [3, 10, 2, 6] for a total of 21\n",
            "you have a [10, 9]for a total of 19\n",
            "Sorry u loose ! The dealer got a blackjack\n",
            "\n",
            "Do u want to play again? (Y/N): N\n",
            "Bye!\n",
            "Do u want to [H]it, [S]tand, or [Q]uit: Q\n",
            "Bye!\n",
            "Do u want to [H]it, [S]tand, or [Q]uit: q\n",
            "Bye!\n"
          ],
          "name": "stdout"
        }
      ]
    },
    {
      "cell_type": "code",
      "metadata": {
        "id": "8OJDRL196RL_",
        "colab_type": "code",
        "colab": {}
      },
      "source": [
        ""
      ],
      "execution_count": 0,
      "outputs": []
    }
  ]
}